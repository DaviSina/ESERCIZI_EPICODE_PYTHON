{
 "cells": [
  {
   "cell_type": "code",
   "execution_count": 1,
   "id": "6bc6579c-a014-4ccc-b577-e94093f44fd5",
   "metadata": {},
   "outputs": [],
   "source": [
    "import os\n",
    "import dotenv\n",
    "import pandas as pd \n",
    "from sqlalchemy import create_engine\n",
    "\n",
    "dotenv.load_dotenv(dotenv_path= \".env\", override=True)\n",
    "\n",
    "username = os.getenv(\"username\")\n",
    "password = os.getenv(\"password\")\n",
    "host = os.getenv(\"host\")\n",
    "dbname = os.getenv(\"dbname\")\n",
    "\n",
    "conn_string =\"mysql+pymysql://\" + username + \":\" + password + \"@\" + host + \"/\" + dbname\n",
    "db_engine = create_engine (conn_string)\n",
    "\n",
    "query = \"SELECT * FROM dimproduct\"\n",
    "df = pd.read_sql(sql=query, con=db_engine)"
   ]
  },
  {
   "cell_type": "code",
   "execution_count": 3,
   "id": "ee61d0bc-3251-408b-bc78-b8f1a81439cc",
   "metadata": {},
   "outputs": [
    {
     "data": {
      "text/plain": [
       "(606, 36)"
      ]
     },
     "execution_count": 3,
     "metadata": {},
     "output_type": "execute_result"
    }
   ],
   "source": [
    "#dati in totale\n",
    "df.shape"
   ]
  },
  {
   "cell_type": "code",
   "execution_count": 5,
   "id": "81206dc2-159b-43f5-a3e4-947b741f180e",
   "metadata": {},
   "outputs": [
    {
     "data": {
      "text/plain": [
       "Index(['ProductKey', 'ProductAlternateKey', 'ProductSubcategoryKey',\n",
       "       'WeightUnitMeasureCode', 'SizeUnitMeasureCode', 'EnglishProductName',\n",
       "       'SpanishProductName', 'FrenchProductName', 'StandardCost',\n",
       "       'FinishedGoodsFlag', 'Color', 'SafetyStockLevel', 'ReorderPoint',\n",
       "       'ListPrice', 'Size', 'SizeRange', 'Weight', 'DaysToManufacture',\n",
       "       'ProductLine', 'DealerPrice', 'Class', 'Style', 'ModelName',\n",
       "       'LargePhoto', 'EnglishDescription', 'FrenchDescription',\n",
       "       'ChineseDescription', 'ArabicDescription', 'HebrewDescription',\n",
       "       'ThaiDescription', 'GermanDescription', 'JapaneseDescription',\n",
       "       'TurkishDescription', 'StartDate', 'EndDate', 'Status'],\n",
       "      dtype='object')"
      ]
     },
     "execution_count": 5,
     "metadata": {},
     "output_type": "execute_result"
    }
   ],
   "source": [
    "#lista metadati\n",
    "df.columns"
   ]
  },
  {
   "cell_type": "code",
   "execution_count": 7,
   "id": "77a9d7c1-554a-4b1d-8c9f-a0bff0afc35b",
   "metadata": {},
   "outputs": [
    {
     "data": {
      "text/html": [
       "<div>\n",
       "<style scoped>\n",
       "    .dataframe tbody tr th:only-of-type {\n",
       "        vertical-align: middle;\n",
       "    }\n",
       "\n",
       "    .dataframe tbody tr th {\n",
       "        vertical-align: top;\n",
       "    }\n",
       "\n",
       "    .dataframe thead th {\n",
       "        text-align: right;\n",
       "    }\n",
       "</style>\n",
       "<table border=\"1\" class=\"dataframe\">\n",
       "  <thead>\n",
       "    <tr style=\"text-align: right;\">\n",
       "      <th></th>\n",
       "      <th>ProductKey</th>\n",
       "      <th>ProductAlternateKey</th>\n",
       "      <th>ProductSubcategoryKey</th>\n",
       "      <th>WeightUnitMeasureCode</th>\n",
       "      <th>SizeUnitMeasureCode</th>\n",
       "      <th>EnglishProductName</th>\n",
       "      <th>SpanishProductName</th>\n",
       "      <th>FrenchProductName</th>\n",
       "      <th>StandardCost</th>\n",
       "      <th>FinishedGoodsFlag</th>\n",
       "      <th>...</th>\n",
       "      <th>ChineseDescription</th>\n",
       "      <th>ArabicDescription</th>\n",
       "      <th>HebrewDescription</th>\n",
       "      <th>ThaiDescription</th>\n",
       "      <th>GermanDescription</th>\n",
       "      <th>JapaneseDescription</th>\n",
       "      <th>TurkishDescription</th>\n",
       "      <th>StartDate</th>\n",
       "      <th>EndDate</th>\n",
       "      <th>Status</th>\n",
       "    </tr>\n",
       "  </thead>\n",
       "  <tbody>\n",
       "    <tr>\n",
       "      <th>0</th>\n",
       "      <td>1</td>\n",
       "      <td>AR-5381</td>\n",
       "      <td>NaN</td>\n",
       "      <td>None</td>\n",
       "      <td>None</td>\n",
       "      <td>Adjustable Race</td>\n",
       "      <td></td>\n",
       "      <td></td>\n",
       "      <td>NaN</td>\n",
       "      <td>0</td>\n",
       "      <td>...</td>\n",
       "      <td>None</td>\n",
       "      <td>None</td>\n",
       "      <td>None</td>\n",
       "      <td>None</td>\n",
       "      <td>None</td>\n",
       "      <td>None</td>\n",
       "      <td>None</td>\n",
       "      <td>2003-07-01</td>\n",
       "      <td>NaT</td>\n",
       "      <td>Current</td>\n",
       "    </tr>\n",
       "  </tbody>\n",
       "</table>\n",
       "<p>1 rows × 36 columns</p>\n",
       "</div>"
      ],
      "text/plain": [
       "   ProductKey ProductAlternateKey  ProductSubcategoryKey  \\\n",
       "0           1             AR-5381                    NaN   \n",
       "\n",
       "  WeightUnitMeasureCode SizeUnitMeasureCode EnglishProductName  \\\n",
       "0                  None                None    Adjustable Race   \n",
       "\n",
       "  SpanishProductName FrenchProductName  StandardCost  FinishedGoodsFlag  ...  \\\n",
       "0                                                NaN                  0  ...   \n",
       "\n",
       "  ChineseDescription  ArabicDescription  HebrewDescription  ThaiDescription  \\\n",
       "0               None               None               None             None   \n",
       "\n",
       "  GermanDescription JapaneseDescription  TurkishDescription  StartDate  \\\n",
       "0              None                None                None 2003-07-01   \n",
       "\n",
       "  EndDate   Status  \n",
       "0     NaT  Current  \n",
       "\n",
       "[1 rows x 36 columns]"
      ]
     },
     "execution_count": 7,
     "metadata": {},
     "output_type": "execute_result"
    }
   ],
   "source": [
    "#prima riga\n",
    "df.head(1)"
   ]
  },
  {
   "cell_type": "code",
   "execution_count": 9,
   "id": "3877eb7e-220d-43a6-b467-7239bf93b212",
   "metadata": {},
   "outputs": [
    {
     "data": {
      "text/html": [
       "<div>\n",
       "<style scoped>\n",
       "    .dataframe tbody tr th:only-of-type {\n",
       "        vertical-align: middle;\n",
       "    }\n",
       "\n",
       "    .dataframe tbody tr th {\n",
       "        vertical-align: top;\n",
       "    }\n",
       "\n",
       "    .dataframe thead th {\n",
       "        text-align: right;\n",
       "    }\n",
       "</style>\n",
       "<table border=\"1\" class=\"dataframe\">\n",
       "  <thead>\n",
       "    <tr style=\"text-align: right;\">\n",
       "      <th></th>\n",
       "      <th>ProductKey</th>\n",
       "      <th>ProductAlternateKey</th>\n",
       "      <th>ProductSubcategoryKey</th>\n",
       "      <th>WeightUnitMeasureCode</th>\n",
       "      <th>SizeUnitMeasureCode</th>\n",
       "      <th>EnglishProductName</th>\n",
       "      <th>SpanishProductName</th>\n",
       "      <th>FrenchProductName</th>\n",
       "      <th>StandardCost</th>\n",
       "      <th>FinishedGoodsFlag</th>\n",
       "      <th>...</th>\n",
       "      <th>ChineseDescription</th>\n",
       "      <th>ArabicDescription</th>\n",
       "      <th>HebrewDescription</th>\n",
       "      <th>ThaiDescription</th>\n",
       "      <th>GermanDescription</th>\n",
       "      <th>JapaneseDescription</th>\n",
       "      <th>TurkishDescription</th>\n",
       "      <th>StartDate</th>\n",
       "      <th>EndDate</th>\n",
       "      <th>Status</th>\n",
       "    </tr>\n",
       "  </thead>\n",
       "  <tbody>\n",
       "    <tr>\n",
       "      <th>605</th>\n",
       "      <td>606</td>\n",
       "      <td>BK-R19B-52</td>\n",
       "      <td>2.0</td>\n",
       "      <td>LB</td>\n",
       "      <td>CM</td>\n",
       "      <td>Road-750 Black, 52</td>\n",
       "      <td>Carretera: 750, negra, 52</td>\n",
       "      <td>Vélo de route 750 noir, 52</td>\n",
       "      <td>343.65</td>\n",
       "      <td>1</td>\n",
       "      <td>...</td>\n",
       "      <td>入门级成人自行车；确保越野旅行或公路骑乘的舒适。快拆式车毂和轮缘。</td>\n",
       "      <td>إنها دراجة مناسبة للمبتدئين من البالغين؛ فهي ت...</td>\n",
       "      <td>אופני מבוגרים למתחילים; מציעים רכיבה נוחה \"מחו...</td>\n",
       "      <td>จักรยานระดับเริ่มต้นสำหรับผู้ใหญ่ ให้ความสบายใ...</td>\n",
       "      <td>Ein Erwachsenenrad für Einsteiger; bietet Komf...</td>\n",
       "      <td>エントリー レベルに対応する、クロスカントリーにも街への買い物にも快適な、大人の自転車。ハブ...</td>\n",
       "      <td>\"Başlangıç seviyesinde yetişkin bisikleti, kır...</td>\n",
       "      <td>2013-07-01</td>\n",
       "      <td>NaT</td>\n",
       "      <td>Current</td>\n",
       "    </tr>\n",
       "  </tbody>\n",
       "</table>\n",
       "<p>1 rows × 36 columns</p>\n",
       "</div>"
      ],
      "text/plain": [
       "     ProductKey ProductAlternateKey  ProductSubcategoryKey  \\\n",
       "605         606          BK-R19B-52                    2.0   \n",
       "\n",
       "    WeightUnitMeasureCode SizeUnitMeasureCode  EnglishProductName  \\\n",
       "605                    LB                  CM  Road-750 Black, 52   \n",
       "\n",
       "            SpanishProductName           FrenchProductName  StandardCost  \\\n",
       "605  Carretera: 750, negra, 52  Vélo de route 750 noir, 52        343.65   \n",
       "\n",
       "     FinishedGoodsFlag  ...                 ChineseDescription  \\\n",
       "605                  1  ...  入门级成人自行车；确保越野旅行或公路骑乘的舒适。快拆式车毂和轮缘。   \n",
       "\n",
       "                                     ArabicDescription  \\\n",
       "605  إنها دراجة مناسبة للمبتدئين من البالغين؛ فهي ت...   \n",
       "\n",
       "                                     HebrewDescription  \\\n",
       "605  אופני מבוגרים למתחילים; מציעים רכיבה נוחה \"מחו...   \n",
       "\n",
       "                                       ThaiDescription  \\\n",
       "605  จักรยานระดับเริ่มต้นสำหรับผู้ใหญ่ ให้ความสบายใ...   \n",
       "\n",
       "                                     GermanDescription  \\\n",
       "605  Ein Erwachsenenrad für Einsteiger; bietet Komf...   \n",
       "\n",
       "                                   JapaneseDescription  \\\n",
       "605  エントリー レベルに対応する、クロスカントリーにも街への買い物にも快適な、大人の自転車。ハブ...   \n",
       "\n",
       "                                    TurkishDescription  StartDate EndDate  \\\n",
       "605  \"Başlangıç seviyesinde yetişkin bisikleti, kır... 2013-07-01     NaT   \n",
       "\n",
       "      Status  \n",
       "605  Current  \n",
       "\n",
       "[1 rows x 36 columns]"
      ]
     },
     "execution_count": 9,
     "metadata": {},
     "output_type": "execute_result"
    }
   ],
   "source": [
    "#ultimo elemento\n",
    "df.tail(1)"
   ]
  },
  {
   "cell_type": "code",
   "execution_count": 11,
   "id": "c20bd6be-abb8-472b-a3c9-e6e3222568fb",
   "metadata": {
    "scrolled": true
   },
   "outputs": [
    {
     "data": {
      "text/html": [
       "<div>\n",
       "<style scoped>\n",
       "    .dataframe tbody tr th:only-of-type {\n",
       "        vertical-align: middle;\n",
       "    }\n",
       "\n",
       "    .dataframe tbody tr th {\n",
       "        vertical-align: top;\n",
       "    }\n",
       "\n",
       "    .dataframe thead th {\n",
       "        text-align: right;\n",
       "    }\n",
       "</style>\n",
       "<table border=\"1\" class=\"dataframe\">\n",
       "  <thead>\n",
       "    <tr style=\"text-align: right;\">\n",
       "      <th></th>\n",
       "      <th>ProductKey</th>\n",
       "      <th>ProductAlternateKey</th>\n",
       "      <th>ProductSubcategoryKey</th>\n",
       "      <th>WeightUnitMeasureCode</th>\n",
       "      <th>SizeUnitMeasureCode</th>\n",
       "      <th>EnglishProductName</th>\n",
       "      <th>SpanishProductName</th>\n",
       "      <th>FrenchProductName</th>\n",
       "      <th>StandardCost</th>\n",
       "      <th>FinishedGoodsFlag</th>\n",
       "      <th>...</th>\n",
       "      <th>ChineseDescription</th>\n",
       "      <th>ArabicDescription</th>\n",
       "      <th>HebrewDescription</th>\n",
       "      <th>ThaiDescription</th>\n",
       "      <th>GermanDescription</th>\n",
       "      <th>JapaneseDescription</th>\n",
       "      <th>TurkishDescription</th>\n",
       "      <th>StartDate</th>\n",
       "      <th>EndDate</th>\n",
       "      <th>Status</th>\n",
       "    </tr>\n",
       "  </thead>\n",
       "  <tbody>\n",
       "    <tr>\n",
       "      <th>508</th>\n",
       "      <td>509</td>\n",
       "      <td>FR-T67Y-58</td>\n",
       "      <td>16.0</td>\n",
       "      <td>LB</td>\n",
       "      <td>CM</td>\n",
       "      <td>LL Touring Frame - Yellow, 58</td>\n",
       "      <td>Cuadro de paseo GB: amarillo, 58</td>\n",
       "      <td>Cadre de vélo de randonnée LL - jaune, 58</td>\n",
       "      <td>199.85</td>\n",
       "      <td>1</td>\n",
       "      <td>...</td>\n",
       "      <td>轻型一体式铝制车架，可以更直立的骑乘姿势进行环城游。我们开创性的设计提供了最佳舒适度。</td>\n",
       "      <td>يوفر هيكل الألومنيوم سميك الأطراف خفيف الوزن و...</td>\n",
       "      <td>מסגרת קלת משקל מאלומיניום חרוץ מספקת תנוחת רכי...</td>\n",
       "      <td>เฟรมอลูมิเนียมน้ำหนักเบา ทำให้ท่วงท่าในการขับข...</td>\n",
       "      <td>Leichter Aluminiumrahmen für aufrechte Sitzhal...</td>\n",
       "      <td>軽量接合アルミニウム フレームにより、街乗りに適したアップライトなライディング ポジションを...</td>\n",
       "      <td>\"Hafif alüminyum kadrosu, şehirde yaptığınız y...</td>\n",
       "      <td>2013-07-01</td>\n",
       "      <td>NaT</td>\n",
       "      <td>Current</td>\n",
       "    </tr>\n",
       "    <tr>\n",
       "      <th>506</th>\n",
       "      <td>507</td>\n",
       "      <td>FR-T67Y-50</td>\n",
       "      <td>16.0</td>\n",
       "      <td>LB</td>\n",
       "      <td>CM</td>\n",
       "      <td>LL Touring Frame - Yellow, 50</td>\n",
       "      <td>Cuadro de paseo GB: amarillo, 50</td>\n",
       "      <td>Cadre de vélo de randonnée LL - jaune, 50</td>\n",
       "      <td>199.85</td>\n",
       "      <td>1</td>\n",
       "      <td>...</td>\n",
       "      <td>轻型一体式铝制车架，可以更直立的骑乘姿势进行环城游。我们开创性的设计提供了最佳舒适度。</td>\n",
       "      <td>يوفر هيكل الألومنيوم سميك الأطراف خفيف الوزن و...</td>\n",
       "      <td>מסגרת קלת משקל מאלומיניום חרוץ מספקת תנוחת רכי...</td>\n",
       "      <td>เฟรมอลูมิเนียมน้ำหนักเบา ทำให้ท่วงท่าในการขับข...</td>\n",
       "      <td>Leichter Aluminiumrahmen für aufrechte Sitzhal...</td>\n",
       "      <td>軽量接合アルミニウム フレームにより、街乗りに適したアップライトなライディング ポジションを...</td>\n",
       "      <td>\"Hafif alüminyum kadrosu, şehirde yaptığınız y...</td>\n",
       "      <td>2013-07-01</td>\n",
       "      <td>NaT</td>\n",
       "      <td>Current</td>\n",
       "    </tr>\n",
       "    <tr>\n",
       "      <th>8</th>\n",
       "      <td>9</td>\n",
       "      <td>CB-2903</td>\n",
       "      <td>NaN</td>\n",
       "      <td>None</td>\n",
       "      <td>None</td>\n",
       "      <td>Chainring Bolts</td>\n",
       "      <td></td>\n",
       "      <td></td>\n",
       "      <td>NaN</td>\n",
       "      <td>0</td>\n",
       "      <td>...</td>\n",
       "      <td>None</td>\n",
       "      <td>None</td>\n",
       "      <td>None</td>\n",
       "      <td>None</td>\n",
       "      <td>None</td>\n",
       "      <td>None</td>\n",
       "      <td>None</td>\n",
       "      <td>2003-07-01</td>\n",
       "      <td>NaT</td>\n",
       "      <td>Current</td>\n",
       "    </tr>\n",
       "    <tr>\n",
       "      <th>53</th>\n",
       "      <td>54</td>\n",
       "      <td>HN-1024</td>\n",
       "      <td>NaN</td>\n",
       "      <td>None</td>\n",
       "      <td>None</td>\n",
       "      <td>Hex Nut 5</td>\n",
       "      <td></td>\n",
       "      <td></td>\n",
       "      <td>NaN</td>\n",
       "      <td>0</td>\n",
       "      <td>...</td>\n",
       "      <td>None</td>\n",
       "      <td>None</td>\n",
       "      <td>None</td>\n",
       "      <td>None</td>\n",
       "      <td>None</td>\n",
       "      <td>None</td>\n",
       "      <td>None</td>\n",
       "      <td>2003-07-01</td>\n",
       "      <td>NaT</td>\n",
       "      <td>Current</td>\n",
       "    </tr>\n",
       "    <tr>\n",
       "      <th>146</th>\n",
       "      <td>147</td>\n",
       "      <td>LW-3800</td>\n",
       "      <td>NaN</td>\n",
       "      <td>None</td>\n",
       "      <td>None</td>\n",
       "      <td>Lock Washer 8</td>\n",
       "      <td></td>\n",
       "      <td></td>\n",
       "      <td>NaN</td>\n",
       "      <td>0</td>\n",
       "      <td>...</td>\n",
       "      <td>None</td>\n",
       "      <td>None</td>\n",
       "      <td>None</td>\n",
       "      <td>None</td>\n",
       "      <td>None</td>\n",
       "      <td>None</td>\n",
       "      <td>None</td>\n",
       "      <td>2003-07-01</td>\n",
       "      <td>NaT</td>\n",
       "      <td>Current</td>\n",
       "    </tr>\n",
       "  </tbody>\n",
       "</table>\n",
       "<p>5 rows × 36 columns</p>\n",
       "</div>"
      ],
      "text/plain": [
       "     ProductKey ProductAlternateKey  ProductSubcategoryKey  \\\n",
       "508         509          FR-T67Y-58                   16.0   \n",
       "506         507          FR-T67Y-50                   16.0   \n",
       "8             9             CB-2903                    NaN   \n",
       "53           54             HN-1024                    NaN   \n",
       "146         147             LW-3800                    NaN   \n",
       "\n",
       "    WeightUnitMeasureCode SizeUnitMeasureCode             EnglishProductName  \\\n",
       "508                    LB                  CM  LL Touring Frame - Yellow, 58   \n",
       "506                    LB                  CM  LL Touring Frame - Yellow, 50   \n",
       "8                    None                None                Chainring Bolts   \n",
       "53                   None                None                      Hex Nut 5   \n",
       "146                  None                None                  Lock Washer 8   \n",
       "\n",
       "                   SpanishProductName  \\\n",
       "508  Cuadro de paseo GB: amarillo, 58   \n",
       "506  Cuadro de paseo GB: amarillo, 50   \n",
       "8                                       \n",
       "53                                      \n",
       "146                                     \n",
       "\n",
       "                             FrenchProductName  StandardCost  \\\n",
       "508  Cadre de vélo de randonnée LL - jaune, 58        199.85   \n",
       "506  Cadre de vélo de randonnée LL - jaune, 50        199.85   \n",
       "8                                                        NaN   \n",
       "53                                                       NaN   \n",
       "146                                                      NaN   \n",
       "\n",
       "     FinishedGoodsFlag  ...                           ChineseDescription  \\\n",
       "508                  1  ...  轻型一体式铝制车架，可以更直立的骑乘姿势进行环城游。我们开创性的设计提供了最佳舒适度。   \n",
       "506                  1  ...  轻型一体式铝制车架，可以更直立的骑乘姿势进行环城游。我们开创性的设计提供了最佳舒适度。   \n",
       "8                    0  ...                                         None   \n",
       "53                   0  ...                                         None   \n",
       "146                  0  ...                                         None   \n",
       "\n",
       "                                     ArabicDescription  \\\n",
       "508  يوفر هيكل الألومنيوم سميك الأطراف خفيف الوزن و...   \n",
       "506  يوفر هيكل الألومنيوم سميك الأطراف خفيف الوزن و...   \n",
       "8                                                 None   \n",
       "53                                                None   \n",
       "146                                               None   \n",
       "\n",
       "                                     HebrewDescription  \\\n",
       "508  מסגרת קלת משקל מאלומיניום חרוץ מספקת תנוחת רכי...   \n",
       "506  מסגרת קלת משקל מאלומיניום חרוץ מספקת תנוחת רכי...   \n",
       "8                                                 None   \n",
       "53                                                None   \n",
       "146                                               None   \n",
       "\n",
       "                                       ThaiDescription  \\\n",
       "508  เฟรมอลูมิเนียมน้ำหนักเบา ทำให้ท่วงท่าในการขับข...   \n",
       "506  เฟรมอลูมิเนียมน้ำหนักเบา ทำให้ท่วงท่าในการขับข...   \n",
       "8                                                 None   \n",
       "53                                                None   \n",
       "146                                               None   \n",
       "\n",
       "                                     GermanDescription  \\\n",
       "508  Leichter Aluminiumrahmen für aufrechte Sitzhal...   \n",
       "506  Leichter Aluminiumrahmen für aufrechte Sitzhal...   \n",
       "8                                                 None   \n",
       "53                                                None   \n",
       "146                                               None   \n",
       "\n",
       "                                   JapaneseDescription  \\\n",
       "508  軽量接合アルミニウム フレームにより、街乗りに適したアップライトなライディング ポジションを...   \n",
       "506  軽量接合アルミニウム フレームにより、街乗りに適したアップライトなライディング ポジションを...   \n",
       "8                                                 None   \n",
       "53                                                None   \n",
       "146                                               None   \n",
       "\n",
       "                                    TurkishDescription  StartDate EndDate  \\\n",
       "508  \"Hafif alüminyum kadrosu, şehirde yaptığınız y... 2013-07-01     NaT   \n",
       "506  \"Hafif alüminyum kadrosu, şehirde yaptığınız y... 2013-07-01     NaT   \n",
       "8                                                 None 2003-07-01     NaT   \n",
       "53                                                None 2003-07-01     NaT   \n",
       "146                                               None 2003-07-01     NaT   \n",
       "\n",
       "      Status  \n",
       "508  Current  \n",
       "506  Current  \n",
       "8    Current  \n",
       "53   Current  \n",
       "146  Current  \n",
       "\n",
       "[5 rows x 36 columns]"
      ]
     },
     "execution_count": 11,
     "metadata": {},
     "output_type": "execute_result"
    }
   ],
   "source": [
    "#5 righe a caso\n",
    "df.sample(5)"
   ]
  },
  {
   "cell_type": "code",
   "execution_count": 50,
   "id": "a0e1df22-0f7d-48fc-bbed-5374e0249adc",
   "metadata": {},
   "outputs": [
    {
     "data": {
      "text/plain": [
       "array(['NA', 'Black', 'Silver', 'Red', 'White', 'Blue', 'Multi', 'Yellow',\n",
       "       'Grey', 'Silver/Black'], dtype=object)"
      ]
     },
     "execution_count": 50,
     "metadata": {},
     "output_type": "execute_result"
    }
   ],
   "source": [
    "#colori disponibili\n",
    "df[\"Color\"].unique()"
   ]
  },
  {
   "cell_type": "code",
   "execution_count": 92,
   "id": "125ba3ae-8c1e-427c-846d-a7c9d9d9bed7",
   "metadata": {},
   "outputs": [
    {
     "data": {
      "text/plain": [
       "56.1932269503546"
      ]
     },
     "execution_count": 92,
     "metadata": {},
     "output_type": "execute_result"
    }
   ],
   "source": [
    "#media peso\n",
    "df[\"Weight\"].mean()"
   ]
  },
  {
   "cell_type": "code",
   "execution_count": 71,
   "id": "e0ad576d-bdda-413b-a09b-e102d072b964",
   "metadata": {},
   "outputs": [
    {
     "data": {
      "text/plain": [
       "2.12"
      ]
     },
     "execution_count": 71,
     "metadata": {},
     "output_type": "execute_result"
    }
   ],
   "source": [
    "#peso più leggero\n",
    "df[\"Weight\"].min()"
   ]
  },
  {
   "cell_type": "code",
   "execution_count": 86,
   "id": "533bf6ce-19df-4dd0-9b1b-6705443e03d3",
   "metadata": {},
   "outputs": [
    {
     "data": {
      "text/plain": [
       "1050.0"
      ]
     },
     "execution_count": 86,
     "metadata": {},
     "output_type": "execute_result"
    }
   ],
   "source": [
    "#peso più pesante\n",
    "df[\"Weight\"].max()"
   ]
  },
  {
   "cell_type": "code",
   "execution_count": 127,
   "id": "4381cd6e-f3ed-4ece-a6fc-7052a8b3e5d3",
   "metadata": {},
   "outputs": [
    {
     "data": {
      "text/plain": [
       "(28,)"
      ]
     },
     "execution_count": 127,
     "metadata": {},
     "output_type": "execute_result"
    }
   ],
   "source": [
    "#pesi maggiori di 100kg\n",
    "filtro = df.loc[:,\"Weight\"] > 100\n",
    "p100 = df.loc[filtro, \"Weight\"]\n",
    "p100.shape"
   ]
  },
  {
   "cell_type": "code",
   "execution_count": 133,
   "id": "d8bf438d-3357-4c41-b61d-b2dc1df7fc65",
   "metadata": {},
   "outputs": [
    {
     "data": {
      "text/plain": [
       "448.5970597468353"
      ]
     },
     "execution_count": 133,
     "metadata": {},
     "output_type": "execute_result"
    }
   ],
   "source": [
    "#costo medio prodotti\n",
    "df[\"DealerPrice\"].mean()"
   ]
  },
  {
   "cell_type": "code",
   "execution_count": 135,
   "id": "e9fdf001-039f-4c56-9988-becdd51aec8e",
   "metadata": {},
   "outputs": [
    {
     "data": {
      "text/plain": [
       "count     395.000000\n",
       "mean      448.597060\n",
       "std       503.225071\n",
       "min         1.374000\n",
       "25%        41.994000\n",
       "50%       218.454000\n",
       "75%       722.594900\n",
       "max      2146.962000\n",
       "Name: DealerPrice, dtype: float64"
      ]
     },
     "execution_count": 135,
     "metadata": {},
     "output_type": "execute_result"
    }
   ],
   "source": [
    "#quarto dei prodotti più costosi\n",
    "df[\"DealerPrice\"].describe()"
   ]
  },
  {
   "cell_type": "code",
   "execution_count": null,
   "id": "0c9fdd26-f214-4712-bc8f-1beae847d531",
   "metadata": {},
   "outputs": [],
   "source": []
  }
 ],
 "metadata": {
  "kernelspec": {
   "display_name": "Python 3 (ipykernel)",
   "language": "python",
   "name": "python3"
  },
  "language_info": {
   "codemirror_mode": {
    "name": "ipython",
    "version": 3
   },
   "file_extension": ".py",
   "mimetype": "text/x-python",
   "name": "python",
   "nbconvert_exporter": "python",
   "pygments_lexer": "ipython3",
   "version": "3.11.7"
  }
 },
 "nbformat": 4,
 "nbformat_minor": 5
}
