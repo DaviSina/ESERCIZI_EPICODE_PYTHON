{
 "cells": [
  {
   "cell_type": "code",
   "execution_count": 1,
   "id": "0e1ee93f-1b7e-4059-833f-e170d2322959",
   "metadata": {},
   "outputs": [],
   "source": [
    "#fare la spesa:\n",
    "#scrivere lista prodotti da acquistare\n",
    "#uscire di casa\n",
    "#recarsi al supermercato\n",
    "#prendere un carrello\n",
    "#leggere elemento della lista\n",
    "#trovare prodotto della lista\n",
    "#inserire prodotto nel carrello\n",
    "#eliminare prodotto trovato\n",
    "#ripetere passaggi da 5 a 8 fino a lista terminata\n",
    "#recarsi alla cassa\n",
    "#pagare prodotti\n",
    "#tornare a casa"
   ]
  },
  {
   "cell_type": "code",
   "execution_count": 3,
   "id": "3f4f13ed-8476-4407-b3bd-15ed925ae860",
   "metadata": {},
   "outputs": [],
   "source": [
    "studenti = 25"
   ]
  },
  {
   "cell_type": "code",
   "execution_count": 5,
   "id": "6fe4b02d-4fce-4970-a987-69fd02c7595e",
   "metadata": {},
   "outputs": [
    {
     "name": "stdout",
     "output_type": "stream",
     "text": [
      "25\n"
     ]
    }
   ],
   "source": [
    "print(studenti)"
   ]
  },
  {
   "cell_type": "code",
   "execution_count": 7,
   "id": "0942c58c-c2e6-4051-bed0-e5a2eb47b242",
   "metadata": {},
   "outputs": [],
   "source": [
    "aggiunte = 3"
   ]
  },
  {
   "cell_type": "code",
   "execution_count": 9,
   "id": "57bed92f-75d3-4b3a-aa4f-9cc52643a275",
   "metadata": {},
   "outputs": [
    {
     "name": "stdout",
     "output_type": "stream",
     "text": [
      "28\n"
     ]
    }
   ],
   "source": [
    "studenti_totali = studenti + aggiunte\n",
    "print(studenti_totali)"
   ]
  },
  {
   "cell_type": "code",
   "execution_count": 11,
   "id": "1e167c44-8b40-475c-8a8f-8b08e4adbcab",
   "metadata": {},
   "outputs": [
    {
     "name": "stdout",
     "output_type": "stream",
     "text": [
      "Epicode\n"
     ]
    }
   ],
   "source": [
    "corso = \"Epicode\"\n",
    "print(corso)"
   ]
  },
  {
   "cell_type": "code",
   "execution_count": 13,
   "id": "b0f95d84-ecbc-41e3-a564-8db5b75aa0c8",
   "metadata": {},
   "outputs": [
    {
     "name": "stdout",
     "output_type": "stream",
     "text": [
      "120\n"
     ]
    }
   ],
   "source": [
    "x = 10\n",
    "y = (x+2)*10\n",
    "print(y)"
   ]
  },
  {
   "cell_type": "code",
   "execution_count": 15,
   "id": "f55bcf20-104a-49f6-98a0-edbd92610e79",
   "metadata": {},
   "outputs": [
    {
     "name": "stdout",
     "output_type": "stream",
     "text": [
      "120\n"
     ]
    }
   ],
   "source": [
    "x = 10\n",
    "y = x + 2\n",
    "z = y * 10\n",
    "print(z)"
   ]
  },
  {
   "cell_type": "code",
   "execution_count": 31,
   "id": "61c22997-51c8-4c89-b787-cc6463101b06",
   "metadata": {},
   "outputs": [],
   "source": [
    "str1 = \"Windows\"\n",
    "str2 = \"Excel\"\n",
    "str3 = \"Powerpoint\"\n",
    "str4 = \"Word\"\n"
   ]
  },
  {
   "cell_type": "code",
   "execution_count": 33,
   "id": "fd481016-f9c5-46c7-bf54-b02a12624df1",
   "metadata": {},
   "outputs": [
    {
     "data": {
      "text/plain": [
       "7"
      ]
     },
     "execution_count": 33,
     "metadata": {},
     "output_type": "execute_result"
    }
   ],
   "source": [
    "len(str1)"
   ]
  },
  {
   "cell_type": "code",
   "execution_count": 35,
   "id": "fec17fd2-fa29-4c4c-a136-1957558e46f6",
   "metadata": {},
   "outputs": [
    {
     "data": {
      "text/plain": [
       "5"
      ]
     },
     "execution_count": 35,
     "metadata": {},
     "output_type": "execute_result"
    }
   ],
   "source": [
    "len(str2)"
   ]
  },
  {
   "cell_type": "code",
   "execution_count": 37,
   "id": "b9a38705-0a38-4f82-bae0-fd0b1bfa74d6",
   "metadata": {},
   "outputs": [
    {
     "data": {
      "text/plain": [
       "10"
      ]
     },
     "execution_count": 37,
     "metadata": {},
     "output_type": "execute_result"
    }
   ],
   "source": [
    "len(str3)"
   ]
  },
  {
   "cell_type": "code",
   "execution_count": 39,
   "id": "289e73cc-ecf8-4e4f-b70c-ae96daa874e8",
   "metadata": {},
   "outputs": [
    {
     "data": {
      "text/plain": [
       "4"
      ]
     },
     "execution_count": 39,
     "metadata": {},
     "output_type": "execute_result"
    }
   ],
   "source": [
    "len(str4)"
   ]
  },
  {
   "cell_type": "code",
   "execution_count": 41,
   "id": "a064888a-36a7-4dce-9044-e9c6bedec1ef",
   "metadata": {},
   "outputs": [
    {
     "name": "stdout",
     "output_type": "stream",
     "text": [
      "31536000\n"
     ]
    }
   ],
   "source": [
    "secondi_ora = 60 * 60\n",
    "secondi_giorno = secondi_ora * 24\n",
    "secondi_anno = secondi_giorno * 365\n",
    "print(secondi_anno)"
   ]
  },
  {
   "cell_type": "code",
   "execution_count": 43,
   "id": "23c881d5-44c8-4ade-9145-6dc35b251411",
   "metadata": {},
   "outputs": [],
   "source": [
    "my_string = \"I am studying Python\""
   ]
  },
  {
   "cell_type": "code",
   "execution_count": 59,
   "id": "d9446fc2-20e8-41eb-bedd-299e83e91de9",
   "metadata": {},
   "outputs": [
    {
     "data": {
      "text/plain": [
       "'I AM STUDYING PYTHON'"
      ]
     },
     "execution_count": 59,
     "metadata": {},
     "output_type": "execute_result"
    }
   ],
   "source": [
    "str.upper(my_string)"
   ]
  },
  {
   "cell_type": "code",
   "execution_count": 63,
   "id": "66d565df-3c0c-4f2b-abb9-2579f0ea06e0",
   "metadata": {},
   "outputs": [
    {
     "data": {
      "text/plain": [
       "'i am studying python'"
      ]
     },
     "execution_count": 63,
     "metadata": {},
     "output_type": "execute_result"
    }
   ],
   "source": [
    "str.lower(my_string)"
   ]
  },
  {
   "cell_type": "code",
   "execution_count": 69,
   "id": "03f3a203-d6ef-4a87-bf0f-d9a414ef1fdd",
   "metadata": {},
   "outputs": [
    {
     "data": {
      "text/plain": [
       "'I am studying a lot'"
      ]
     },
     "execution_count": 69,
     "metadata": {},
     "output_type": "execute_result"
    }
   ],
   "source": [
    "my_string.replace(\"Python\",\"a lot\")"
   ]
  },
  {
   "cell_type": "code",
   "execution_count": null,
   "id": "4b94b58b-041e-4dc6-a568-109985bfa2b1",
   "metadata": {},
   "outputs": [],
   "source": []
  }
 ],
 "metadata": {
  "kernelspec": {
   "display_name": "Python 3 (ipykernel)",
   "language": "python",
   "name": "python3"
  },
  "language_info": {
   "codemirror_mode": {
    "name": "ipython",
    "version": 3
   },
   "file_extension": ".py",
   "mimetype": "text/x-python",
   "name": "python",
   "nbconvert_exporter": "python",
   "pygments_lexer": "ipython3",
   "version": "3.11.7"
  }
 },
 "nbformat": 4,
 "nbformat_minor": 5
}
