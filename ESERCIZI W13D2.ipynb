{
 "cells": [
  {
   "cell_type": "code",
   "execution_count": 1,
   "id": "ba5ca127-4d62-482f-8ee3-cd54bbad8dc5",
   "metadata": {},
   "outputs": [],
   "source": [
    "studenti = [\"Alex\", \"Bob\", \"Cindy\", \"Dan\", \"Emma\", \"Faith\", \"Grace\", \"Henry\"]\n",
    "corsi = [\"Cybersecurity\", \"Data Analyst\", \"Backend\", \"Frontend\", \"Data Analyst\", \"Backend\"]"
   ]
  },
  {
   "cell_type": "code",
   "execution_count": 3,
   "id": "eb47b1cd-733b-4b43-a84c-de55d38a253b",
   "metadata": {},
   "outputs": [],
   "source": [
    "corsi.append(\"Frontend\")"
   ]
  },
  {
   "cell_type": "code",
   "execution_count": 5,
   "id": "7668b495-2df1-4d93-b748-d1c101da904d",
   "metadata": {},
   "outputs": [],
   "source": [
    "corsi.append(\"Cybersecurity\")"
   ]
  },
  {
   "cell_type": "code",
   "execution_count": 9,
   "id": "91cc4ed0-94a0-4179-b253-12b8330e9a83",
   "metadata": {},
   "outputs": [
    {
     "data": {
      "text/plain": [
       "8"
      ]
     },
     "execution_count": 9,
     "metadata": {},
     "output_type": "execute_result"
    }
   ],
   "source": [
    "len(studenti)"
   ]
  },
  {
   "cell_type": "code",
   "execution_count": 11,
   "id": "d9ff5a4f-bc77-4ca2-900a-f9820f154bf5",
   "metadata": {},
   "outputs": [
    {
     "data": {
      "text/plain": [
       "8"
      ]
     },
     "execution_count": 11,
     "metadata": {},
     "output_type": "execute_result"
    }
   ],
   "source": [
    "len(corsi)"
   ]
  },
  {
   "cell_type": "code",
   "execution_count": 7,
   "id": "6250d0fc-95f2-4add-8bd5-456c3c541e91",
   "metadata": {},
   "outputs": [
    {
     "name": "stdout",
     "output_type": "stream",
     "text": [
      "['Cybersecurity', 'Data Analyst', 'Backend', 'Frontend', 'Data Analyst', 'Backend', 'Frontend', 'Cybersecurity']\n"
     ]
    }
   ],
   "source": [
    "print(corsi)"
   ]
  },
  {
   "cell_type": "code",
   "execution_count": 15,
   "id": "a680e104-795c-4fe8-8c9b-ccba9e4d83cc",
   "metadata": {},
   "outputs": [],
   "source": [
    "x = \"amore\""
   ]
  },
  {
   "cell_type": "code",
   "execution_count": 127,
   "id": "655c33ef-6e9c-47b2-8976-7ffc628bf022",
   "metadata": {},
   "outputs": [
    {
     "name": "stdin",
     "output_type": "stream",
     "text": [
      " calcolatrice\n"
     ]
    },
    {
     "name": "stdout",
     "output_type": "stream",
     "text": [
      "cal...ice\n"
     ]
    }
   ],
   "source": [
    "x = input()\n",
    "prime_lettere = x[0:3]\n",
    "ultime_lettere = x[-3:]\n",
    "punti = \"...\"\n",
    "print(prime_lettere + punti + ultime_lettere)"
   ]
  },
  {
   "cell_type": "code",
   "execution_count": 135,
   "id": "31923568-248c-4378-b93c-3d02e980656d",
   "metadata": {},
   "outputs": [
    {
     "name": "stdout",
     "output_type": "stream",
     "text": [
      "{'Ada': 'Punto', 'Ben': 'Multipla', 'Charlie': 'Golf', 'Debbie': '107'}\n"
     ]
    },
    {
     "data": {
      "text/plain": [
       "'107'"
      ]
     },
     "execution_count": 135,
     "metadata": {},
     "output_type": "execute_result"
    }
   ],
   "source": [
    "auto = {\"Ada\":\"Punto\",\"Ben\":\"Multipla\",\"Charlie\":\"Golf\",\"Debbie\":\"107\"}\n",
    "print(auto)\n",
    "auto[\"Debbie\"]"
   ]
  },
  {
   "cell_type": "code",
   "execution_count": 141,
   "id": "2e0fd123-9fff-440f-9f04-07c0f49871ce",
   "metadata": {},
   "outputs": [
    {
     "name": "stdout",
     "output_type": "stream",
     "text": [
      "{'Ada': 'Punto', 'Ben': 'Multipla', 'Charlie': 'Golf', 'Debbie': '107', 'Emily': 'A1'}\n"
     ]
    }
   ],
   "source": [
    "dizionario_auto = {\"Ada\": \"Punto\", \"Ben\": \"Multipla\", \"Charlie\": \"Golf\", \"Debbie\": \"107\", \"Emily\": \"A1\"}\n",
    "print(dizionario_auto)"
   ]
  },
  {
   "cell_type": "code",
   "execution_count": 139,
   "id": "dfb9efcb-bacc-4985-b8a8-1134ce2e6196",
   "metadata": {},
   "outputs": [],
   "source": [
    "nuovi_proprietari = {\"Ben\": \"Polo\", \"Fred\": \"Octavia\", \"Grace\": \"Yaris\", \"Hugh\": \"Clio\"}"
   ]
  },
  {
   "cell_type": "code",
   "execution_count": 147,
   "id": "6de72acd-80c3-4250-b86a-d5dbb74ce093",
   "metadata": {},
   "outputs": [
    {
     "name": "stdout",
     "output_type": "stream",
     "text": [
      "{'Ada': 'Punto', 'Ben': 'Polo', 'Charlie': 'Golf', 'Debbie': '107', 'Emily': 'A1', 'Fred': 'Octavia', 'Grace': 'Yaris', 'Hugh': 'Clio'}\n"
     ]
    }
   ],
   "source": [
    "dizionario_auto.update(nuovi_proprietari)\n",
    "print(dizionario_auto)\n",
    "#nel dizionario aggiornato Ben guida una Polo anzichè una Multipla"
   ]
  },
  {
   "cell_type": "code",
   "execution_count": 157,
   "id": "b67639d7-3272-47f2-8459-1db9f30724e4",
   "metadata": {},
   "outputs": [
    {
     "name": "stdout",
     "output_type": "stream",
     "text": [
      "102\n",
      "13\n"
     ]
    }
   ],
   "source": [
    "numeri = [13,16,20,56,21,90,64,31,44,102]\n",
    "print(max(numeri))\n",
    "print(min(numeri))"
   ]
  },
  {
   "cell_type": "code",
   "execution_count": 159,
   "id": "3a762fe5-3bdf-4c03-8f16-33bc8630ae0b",
   "metadata": {},
   "outputs": [
    {
     "name": "stdout",
     "output_type": "stream",
     "text": [
      "['Alex', 'Cindy', 'Emma', 'Grace', 'Isabelle']\n",
      "['Bob', 'Dan', 'Faith', 'Henry', 'John']\n"
     ]
    }
   ],
   "source": [
    "studenti = [\"Alex\", \"Bob\", \"Cindy\", \"Dan\", \"Emma\", \"Faith\", \"Grace\", \"Henry\", \"Isabelle\", \"John\"]\n",
    "squadra1 = studenti[::2]\n",
    "squadra2 = studenti[1::2]\n",
    "print(squadra1)\n",
    "print(squadra2)"
   ]
  },
  {
   "cell_type": "code",
   "execution_count": 20,
   "id": "22da7026-3c03-4db6-9057-cff948c695e1",
   "metadata": {},
   "outputs": [
    {
     "name": "stdout",
     "output_type": "stream",
     "text": [
      "E\n",
      "p\n",
      "i\n",
      "c\n",
      "o\n",
      "d\n",
      "e\n"
     ]
    }
   ],
   "source": [
    "nome_scuola = \"Epicode\"\n",
    "lunghezza = len(nome_scuola)\n",
    "i = 0\n",
    "while i < lunghezza:\n",
    "    print(nome_scuola[i])\n",
    "    i += 1"
   ]
  },
  {
   "cell_type": "code",
   "execution_count": 22,
   "id": "82a7fb7e-a259-4b15-9e0e-75eb873f6bf2",
   "metadata": {},
   "outputs": [
    {
     "name": "stdout",
     "output_type": "stream",
     "text": [
      "0\n",
      "1\n",
      "2\n",
      "3\n",
      "4\n",
      "5\n",
      "6\n",
      "7\n",
      "8\n",
      "9\n",
      "10\n",
      "11\n",
      "12\n",
      "13\n",
      "14\n",
      "15\n",
      "16\n",
      "17\n",
      "18\n",
      "19\n",
      "20\n"
     ]
    }
   ],
   "source": [
    "x = 0\n",
    "while x <= 20:\n",
    "    print(x)\n",
    "    x +=1"
   ]
  },
  {
   "cell_type": "code",
   "execution_count": 26,
   "id": "7ab1d2e5-34e1-4461-9d99-0050ed080304",
   "metadata": {},
   "outputs": [
    {
     "name": "stdout",
     "output_type": "stream",
     "text": [
      "1\n",
      "2\n",
      "4\n",
      "8\n",
      "16\n",
      "32\n",
      "64\n",
      "128\n",
      "256\n",
      "512\n",
      "1024\n"
     ]
    }
   ],
   "source": [
    "x = 0\n",
    "while x <= 10:\n",
    "    print(2**x)\n",
    "    x += 1"
   ]
  },
  {
   "cell_type": "code",
   "execution_count": 46,
   "id": "96047623-0e15-44a6-ae21-2bde9c5aa1ca",
   "metadata": {},
   "outputs": [
    {
     "name": "stdin",
     "output_type": "stream",
     "text": [
      "inserire il numero di potenze: 5\n"
     ]
    },
    {
     "name": "stdout",
     "output_type": "stream",
     "text": [
      "1\n",
      "2\n",
      "4\n",
      "8\n",
      "16\n",
      "32\n"
     ]
    }
   ],
   "source": [
    "x = 0\n",
    "y = input(\"inserire il numero di potenze:\")\n",
    "y = int(y)\n",
    "while x <= y:\n",
    "    print (2**x)\n",
    "    x += 1"
   ]
  },
  {
   "cell_type": "code",
   "execution_count": 56,
   "id": "36c22e67-5aac-4cf6-a5f3-a2998de745cc",
   "metadata": {},
   "outputs": [
    {
     "name": "stdout",
     "output_type": "stream",
     "text": [
      "2\n",
      "4\n",
      "8\n",
      "16\n",
      "32\n",
      "64\n",
      "128\n",
      "256\n",
      "512\n",
      "1024\n",
      "2048\n",
      "4096\n",
      "8192\n",
      "16384\n"
     ]
    }
   ],
   "source": [
    "x = 2\n",
    "while x <= 25000:\n",
    "    print(x)\n",
    "    x *= 2"
   ]
  },
  {
   "cell_type": "code",
   "execution_count": 12,
   "id": "2c4a7840-7c32-46df-9804-964eef3986e9",
   "metadata": {},
   "outputs": [
    {
     "name": "stdin",
     "output_type": "stream",
     "text": [
      "inserisci un numero: 1000\n"
     ]
    },
    {
     "name": "stdout",
     "output_type": "stream",
     "text": [
      "1000.0\n",
      "500.0\n",
      "200.0\n",
      "100.0\n"
     ]
    }
   ],
   "source": [
    "x = input(\"inserisci un numero:\")\n",
    "x = int(x)\n",
    "y = 1\n",
    "while y <= x:\n",
    "    z = x / y\n",
    "    if z % y == 0:\n",
    "        print(z)\n",
    "    y += 1"
   ]
  },
  {
   "cell_type": "code",
   "execution_count": 30,
   "id": "95f56fb4-a189-4e1a-adfd-c1913627bd8e",
   "metadata": {},
   "outputs": [
    {
     "name": "stdout",
     "output_type": "stream",
     "text": [
      "E\n",
      "p\n",
      "i\n",
      "c\n",
      "o\n",
      "d\n",
      "e\n"
     ]
    }
   ],
   "source": [
    "nome_scuola = \"Epicode\"\n",
    "for x in nome_scuola:\n",
    "    print(x)"
   ]
  },
  {
   "cell_type": "code",
   "execution_count": 10,
   "id": "2ec522ed-ffc5-4a21-a3b1-061d16f6d296",
   "metadata": {},
   "outputs": [
    {
     "name": "stdout",
     "output_type": "stream",
     "text": [
      "70.0\n"
     ]
    }
   ],
   "source": [
    "guadagni = [100, 90, 70, 40, 50, 80, 90, 120, 80, 20, 50, 50]\n",
    "somma = 0\n",
    "divisore = len(guadagni)\n",
    "for guadagno in guadagni:\n",
    "    somma += guadagno\n",
    "print(somma / divisore)"
   ]
  },
  {
   "cell_type": "code",
   "execution_count": 22,
   "id": "b34b3849-a066-4312-a4e5-49ae1ac923f6",
   "metadata": {},
   "outputs": [
    {
     "name": "stdout",
     "output_type": "stream",
     "text": [
      "per la parola Albergo sono presenti 1 E/e\n",
      "per la parola Sedia sono presenti 1 E/e\n",
      "per la parola Borgo sono presenti 0 E/e\n",
      "per la parola Petalo sono presenti 1 E/e\n",
      "per la parola Eremo sono presenti 2 E/e\n",
      "per la parola Belvedere sono presenti 4 E/e\n",
      "per la parola Semestre sono presenti 3 E/e\n",
      "per la parola Esteta sono presenti 2 E/e\n",
      "per la parola Sosta sono presenti 0 E/e\n",
      "per la parola Orpello sono presenti 1 E/e\n",
      "per la parola Abete sono presenti 2 E/e\n",
      "per la parola Orologio sono presenti 0 E/e\n",
      "per la parola Cesta sono presenti 1 E/e\n",
      "per la parola Ermellino sono presenti 2 E/e\n"
     ]
    }
   ],
   "source": [
    "parole = [\"Albergo\", \"Sedia\", \"Borgo\", \"Petalo\", \"Eremo\", \"Belvedere\", \"Semestre\", \"Esteta\", \"Sosta\", \"Orpello\", \"Abete\", \"Orologio\", \"Cesta\", \"Ermellino\"]\n",
    "for parola in parole:\n",
    "    e = 0\n",
    "    for lettera in parola:\n",
    "        if lettera == \"E\" or lettera == \"e\":\n",
    "            e += 1\n",
    "    print(\"per la parola\", parola, \"sono presenti\", e ,\"E/e\")"
   ]
  },
  {
   "cell_type": "code",
   "execution_count": 71,
   "id": "a356a4c6-5ddf-42a4-99c0-3178c53865e6",
   "metadata": {},
   "outputs": [
    {
     "name": "stdout",
     "output_type": "stream",
     "text": [
      "*****\n",
      "**\n",
      "***\n",
      "****\n"
     ]
    }
   ],
   "source": [
    "numeri = [5, 2, 3, 4]\n",
    "for numero in numeri:\n",
    "    print(\"*\" * numero)   "
   ]
  },
  {
   "cell_type": "code",
   "execution_count": 101,
   "id": "bee80356-0981-4893-9a41-0da1de6aefc5",
   "metadata": {},
   "outputs": [
    {
     "name": "stdout",
     "output_type": "stream",
     "text": [
      "cognome: ABC nome: DEF\n",
      "cognome: STU nome: VWX\n",
      "cognome: DEF nome: GHI\n",
      "['ABCDEF95G01A123B', 'STUVWX95Z04A654E', 'DEFGHI95J06A987G']\n"
     ]
    }
   ],
   "source": [
    "lista_cf = [\"ABCDEF95G01A123B\", \"GHIJKL91M02A321C\", \"MNOPQR89S03A456D\", \"STUVWX95Z04A654E\", \"XYZABC01D05A789F\", \"DEFGHI95J06A987G\"]\n",
    "lista = []\n",
    "for codice in lista_cf:\n",
    "    if \"95\" in codice:\n",
    "        cognome = codice[:3]\n",
    "        nome = codice[3:6]\n",
    "        print(\"cognome:\",cognome,\"nome:\",nome)\n",
    "        lista.append(codice)\n",
    "print(lista)"
   ]
  },
  {
   "cell_type": "code",
   "execution_count": null,
   "id": "299b31b0-ef47-472b-8c37-cc0350151fdb",
   "metadata": {},
   "outputs": [],
   "source": []
  }
 ],
 "metadata": {
  "kernelspec": {
   "display_name": "Python 3 (ipykernel)",
   "language": "python",
   "name": "python3"
  },
  "language_info": {
   "codemirror_mode": {
    "name": "ipython",
    "version": 3
   },
   "file_extension": ".py",
   "mimetype": "text/x-python",
   "name": "python",
   "nbconvert_exporter": "python",
   "pygments_lexer": "ipython3",
   "version": "3.11.7"
  }
 },
 "nbformat": 4,
 "nbformat_minor": 5
}
