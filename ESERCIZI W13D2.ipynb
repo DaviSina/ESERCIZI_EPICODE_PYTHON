{
 "cells": [
  {
   "cell_type": "code",
   "execution_count": 1,
   "id": "ba5ca127-4d62-482f-8ee3-cd54bbad8dc5",
   "metadata": {},
   "outputs": [],
   "source": [
    "studenti = [\"Alex\", \"Bob\", \"Cindy\", \"Dan\", \"Emma\", \"Faith\", \"Grace\", \"Henry\"]\n",
    "corsi = [\"Cybersecurity\", \"Data Analyst\", \"Backend\", \"Frontend\", \"Data Analyst\", \"Backend\"]"
   ]
  },
  {
   "cell_type": "code",
   "execution_count": 3,
   "id": "eb47b1cd-733b-4b43-a84c-de55d38a253b",
   "metadata": {},
   "outputs": [],
   "source": [
    "corsi.append(\"Frontend\")"
   ]
  },
  {
   "cell_type": "code",
   "execution_count": 5,
   "id": "7668b495-2df1-4d93-b748-d1c101da904d",
   "metadata": {},
   "outputs": [],
   "source": [
    "corsi.append(\"Cybersecurity\")"
   ]
  },
  {
   "cell_type": "code",
   "execution_count": 9,
   "id": "91cc4ed0-94a0-4179-b253-12b8330e9a83",
   "metadata": {},
   "outputs": [
    {
     "data": {
      "text/plain": [
       "8"
      ]
     },
     "execution_count": 9,
     "metadata": {},
     "output_type": "execute_result"
    }
   ],
   "source": [
    "len(studenti)"
   ]
  },
  {
   "cell_type": "code",
   "execution_count": 11,
   "id": "d9ff5a4f-bc77-4ca2-900a-f9820f154bf5",
   "metadata": {},
   "outputs": [
    {
     "data": {
      "text/plain": [
       "8"
      ]
     },
     "execution_count": 11,
     "metadata": {},
     "output_type": "execute_result"
    }
   ],
   "source": [
    "len(corsi)"
   ]
  },
  {
   "cell_type": "code",
   "execution_count": 7,
   "id": "6250d0fc-95f2-4add-8bd5-456c3c541e91",
   "metadata": {},
   "outputs": [
    {
     "name": "stdout",
     "output_type": "stream",
     "text": [
      "['Cybersecurity', 'Data Analyst', 'Backend', 'Frontend', 'Data Analyst', 'Backend', 'Frontend', 'Cybersecurity']\n"
     ]
    }
   ],
   "source": [
    "print(corsi)"
   ]
  },
  {
   "cell_type": "code",
   "execution_count": 15,
   "id": "a680e104-795c-4fe8-8c9b-ccba9e4d83cc",
   "metadata": {},
   "outputs": [],
   "source": [
    "x = \"amore\""
   ]
  },
  {
   "cell_type": "code",
   "execution_count": 127,
   "id": "655c33ef-6e9c-47b2-8976-7ffc628bf022",
   "metadata": {},
   "outputs": [
    {
     "name": "stdin",
     "output_type": "stream",
     "text": [
      " calcolatrice\n"
     ]
    },
    {
     "name": "stdout",
     "output_type": "stream",
     "text": [
      "cal...ice\n"
     ]
    }
   ],
   "source": [
    "x = input()\n",
    "prime_lettere = x[0:3]\n",
    "ultime_lettere = x[-3:]\n",
    "punti = \"...\"\n",
    "print(prime_lettere + punti + ultime_lettere)"
   ]
  },
  {
   "cell_type": "code",
   "execution_count": 135,
   "id": "31923568-248c-4378-b93c-3d02e980656d",
   "metadata": {},
   "outputs": [
    {
     "name": "stdout",
     "output_type": "stream",
     "text": [
      "{'Ada': 'Punto', 'Ben': 'Multipla', 'Charlie': 'Golf', 'Debbie': '107'}\n"
     ]
    },
    {
     "data": {
      "text/plain": [
       "'107'"
      ]
     },
     "execution_count": 135,
     "metadata": {},
     "output_type": "execute_result"
    }
   ],
   "source": [
    "auto = {\"Ada\":\"Punto\",\"Ben\":\"Multipla\",\"Charlie\":\"Golf\",\"Debbie\":\"107\"}\n",
    "print(auto)\n",
    "auto[\"Debbie\"]"
   ]
  },
  {
   "cell_type": "code",
   "execution_count": 141,
   "id": "2e0fd123-9fff-440f-9f04-07c0f49871ce",
   "metadata": {},
   "outputs": [
    {
     "name": "stdout",
     "output_type": "stream",
     "text": [
      "{'Ada': 'Punto', 'Ben': 'Multipla', 'Charlie': 'Golf', 'Debbie': '107', 'Emily': 'A1'}\n"
     ]
    }
   ],
   "source": [
    "dizionario_auto = {\"Ada\": \"Punto\", \"Ben\": \"Multipla\", \"Charlie\": \"Golf\", \"Debbie\": \"107\", \"Emily\": \"A1\"}\n",
    "print(dizionario_auto)"
   ]
  },
  {
   "cell_type": "code",
   "execution_count": 139,
   "id": "dfb9efcb-bacc-4985-b8a8-1134ce2e6196",
   "metadata": {},
   "outputs": [],
   "source": [
    "nuovi_proprietari = {\"Ben\": \"Polo\", \"Fred\": \"Octavia\", \"Grace\": \"Yaris\", \"Hugh\": \"Clio\"}"
   ]
  },
  {
   "cell_type": "code",
   "execution_count": 147,
   "id": "6de72acd-80c3-4250-b86a-d5dbb74ce093",
   "metadata": {},
   "outputs": [
    {
     "name": "stdout",
     "output_type": "stream",
     "text": [
      "{'Ada': 'Punto', 'Ben': 'Polo', 'Charlie': 'Golf', 'Debbie': '107', 'Emily': 'A1', 'Fred': 'Octavia', 'Grace': 'Yaris', 'Hugh': 'Clio'}\n"
     ]
    }
   ],
   "source": [
    "dizionario_auto.update(nuovi_proprietari)\n",
    "print(dizionario_auto)\n",
    "#nel dizionario aggiornato Ben guida una Polo anzichè una Multipla"
   ]
  },
  {
   "cell_type": "code",
   "execution_count": 157,
   "id": "b67639d7-3272-47f2-8459-1db9f30724e4",
   "metadata": {},
   "outputs": [
    {
     "name": "stdout",
     "output_type": "stream",
     "text": [
      "102\n",
      "13\n"
     ]
    }
   ],
   "source": [
    "numeri = [13,16,20,56,21,90,64,31,44,102]\n",
    "print(max(numeri))\n",
    "print(min(numeri))"
   ]
  },
  {
   "cell_type": "code",
   "execution_count": 159,
   "id": "3a762fe5-3bdf-4c03-8f16-33bc8630ae0b",
   "metadata": {},
   "outputs": [
    {
     "name": "stdout",
     "output_type": "stream",
     "text": [
      "['Alex', 'Cindy', 'Emma', 'Grace', 'Isabelle']\n",
      "['Bob', 'Dan', 'Faith', 'Henry', 'John']\n"
     ]
    }
   ],
   "source": [
    "studenti = [\"Alex\", \"Bob\", \"Cindy\", \"Dan\", \"Emma\", \"Faith\", \"Grace\", \"Henry\", \"Isabelle\", \"John\"]\n",
    "squadra1 = studenti[::2]\n",
    "squadra2 = studenti[1::2]\n",
    "print(squadra1)\n",
    "print(squadra2)"
   ]
  },
  {
   "cell_type": "code",
   "execution_count": null,
   "id": "22da7026-3c03-4db6-9057-cff948c695e1",
   "metadata": {},
   "outputs": [],
   "source": []
  }
 ],
 "metadata": {
  "kernelspec": {
   "display_name": "Python 3 (ipykernel)",
   "language": "python",
   "name": "python3"
  },
  "language_info": {
   "codemirror_mode": {
    "name": "ipython",
    "version": 3
   },
   "file_extension": ".py",
   "mimetype": "text/x-python",
   "name": "python",
   "nbconvert_exporter": "python",
   "pygments_lexer": "ipython3",
   "version": "3.11.7"
  }
 },
 "nbformat": 4,
 "nbformat_minor": 5
}
